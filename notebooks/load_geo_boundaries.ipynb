{
 "cells": [
  {
   "cell_type": "markdown",
   "id": "9cb35990",
   "metadata": {},
   "source": [
    "## Geo Boundaries Loader for Regions and ICBs\n",
    "\n",
    "This script loads geospatial boundary data for NHS Regions and Integrated Care Boards (ICBs) into the `geo_boundaries` table in the PostGIS-enabled PostgreSQL database.\n",
    "\n",
    "### How It Works:\n",
    "- **User Input**: Specify the paths to both the GeoJSON files and the corresponding CSV mapping files for regions and ICBs.\n",
    "- **Preprocessing**:\n",
    "  - Reads and merges each GeoJSON with its respective NHS-to-ONS code mapping.\n",
    "  - Normalizes and renames columns to match the table schema (`ons_code`, `nhs_code`, `name`, `geo_level`, `geometry`).\n",
    "- **Combining**: Concatenates region and ICB GeoDataFrames into one unified structure.\n",
    "- **Database Load**: Writes all geometries into the `geo_boundaries` table using `to_postgis()`, ensuring geometry type and metadata are preserved.\n",
    "\n",
    "This script ensures geographic consistency and enables accurate visual mapping and spatial analysis across NHS organisational boundaries.\n"
   ]
  },
  {
   "cell_type": "code",
   "execution_count": null,
   "id": "55af6206",
   "metadata": {},
   "outputs": [],
   "source": [
    "import geopandas as gpd\n",
    "import geopandas as gpd\n",
    "import pandas as pd\n",
    "from sqlalchemy import create_engine\n",
    "from sqlalchemy.exc import SQLAlchemyError"
   ]
  },
  {
   "cell_type": "code",
   "execution_count": null,
   "id": "3f0acd4e",
   "metadata": {},
   "outputs": [],
   "source": [
    "# === DB CONNECTION ===\n",
    "engine = create_engine(\"postgresql://postgres:<password>@localhost:5432/nhs_dashboard\")\n",
    "\n",
    "# === FILE PATHS ===\n",
    "REGION_GEOJSON = \"../data/geoboundaries/NHS_England_Regions.geojson\"\n",
    "REGION_MAPPING_CSV = \"../data/geoboundaries/NHS_England_(Region)_(2024)_Names_and_Codes_in_England.csv\"\n",
    "ICB_GEOJSON = \"../data/geoboundaries/Integrated_Care_Boards.geojson\"\n",
    "ICB_MAPPING_CSV = \"../data/geoboundaries/Integrated_Care_Boards_(April_2023)_Names_and_Codes_in_England.csv\"\n",
    "\n",
    "try:\n",
    "    # === REGIONS ===\n",
    "    gdf_region = gpd.read_file(REGION_GEOJSON)\n",
    "    df_region_map = pd.read_csv(REGION_MAPPING_CSV)\n",
    "\n",
    "    df_region_map = df_region_map.rename(columns={\n",
    "        'NHSER24CD': 'ons_code',\n",
    "        'NHSER24CDH': 'nhs_code',\n",
    "        'NHSER24NM': 'name'\n",
    "    })\n",
    "\n",
    "    gdf_region = gdf_region.rename(columns={\n",
    "        'NHSER24CD': 'ons_code',\n",
    "        'NHSER24NM': 'name'\n",
    "    })\n",
    "\n",
    "    gdf_region = gdf_region.merge(df_region_map[['ons_code', 'nhs_code']], on='ons_code', how='left')\n",
    "    gdf_region['geo_level'] = 'Region'\n",
    "    gdf_region = gdf_region[['ons_code', 'nhs_code', 'name', 'geo_level', 'geometry']]\n",
    "\n",
    "    # === ICBs ===\n",
    "    gdf_icb = gpd.read_file(ICB_GEOJSON)\n",
    "    df_icb_map = pd.read_csv(ICB_MAPPING_CSV)\n",
    "\n",
    "    df_icb_map = df_icb_map.rename(columns={\n",
    "        'ICB23CD': 'ons_code',\n",
    "        'ICB23CDH': 'nhs_code',\n",
    "        'ICB23NM': 'name'\n",
    "    })\n",
    "\n",
    "    gdf_icb = gdf_icb.rename(columns={\n",
    "        'ICB23CD': 'ons_code',\n",
    "        'ICB23NM': 'name'\n",
    "    })\n",
    "\n",
    "    gdf_icb = gdf_icb.merge(df_icb_map[['ons_code', 'nhs_code']], on='ons_code', how='left')\n",
    "    gdf_icb['geo_level'] = 'ICB'\n",
    "    gdf_icb = gdf_icb[['ons_code', 'nhs_code', 'name', 'geo_level', 'geometry']]\n",
    "\n",
    "    # === COMBINE AND INSERT ===\n",
    "    final_gdf = pd.concat([gdf_region, gdf_icb], ignore_index=True)\n",
    "    final_gdf.to_postgis(\"geo_boundaries\", con=engine, if_exists=\"append\", index=False)\n",
    "\n",
    "    print(f\"Loaded {len(final_gdf)} rows into geo_boundaries\")\n",
    "\n",
    "except (SQLAlchemyError, Exception) as e:\n",
    "    print(\"Error occurred during geo boundaries processing:\", str(e))\n"
   ]
  },
  {
   "cell_type": "code",
   "execution_count": null,
   "id": "1afcfef2",
   "metadata": {},
   "outputs": [],
   "source": []
  }
 ],
 "metadata": {
  "kernelspec": {
   "display_name": "Python 3",
   "language": "python",
   "name": "python3"
  },
  "language_info": {
   "codemirror_mode": {
    "name": "ipython",
    "version": 3
   },
   "file_extension": ".py",
   "mimetype": "text/x-python",
   "name": "python",
   "nbconvert_exporter": "python",
   "pygments_lexer": "ipython3",
   "version": "3.13.3"
  }
 },
 "nbformat": 4,
 "nbformat_minor": 5
}
