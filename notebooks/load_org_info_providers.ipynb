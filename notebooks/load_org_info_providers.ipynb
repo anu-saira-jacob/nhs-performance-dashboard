{
 "cells": [
  {
   "cell_type": "markdown",
   "id": "a23b895f",
   "metadata": {},
   "source": [
    "## Provider Organisation Info Loader\n",
    "\n",
    "This script processes NHS provider location data from a CSV file and populates the `org_info` table in the PostgreSQL database.\n",
    "\n",
    "### 🔧 How It Works:\n",
    "- **User Input**: Configure the `FILE_PATH` to the CSV and set the `GEOCODE_SOURCE` label for traceability.\n",
    "- **Preprocessing**: \n",
    "  - Renames relevant columns to standard schema names.\n",
    "  - Filters and selects only necessary columns.\n",
    "  - Adds metadata such as `org_type` (fixed as 'Provider') and geocode source.\n",
    "- **Data Formatting**: Converts date fields to proper datetime format and ensures numeric types for coordinates.\n",
    "- **Database Load**: Inserts all records into the `org_info` table within a transaction to avoid partial writes.\n",
    "\n",
    "This script is essential for maintaining a clean and structured view of provider organisations, including their geographic and administrative metadata.\n"
   ]
  },
  {
   "cell_type": "code",
   "execution_count": null,
   "id": "199ee3a8",
   "metadata": {},
   "outputs": [],
   "source": [
    "import pandas as pd\n",
    "from sqlalchemy import create_engine\n",
    "from sqlalchemy.exc import SQLAlchemyError"
   ]
  },
  {
   "cell_type": "code",
   "execution_count": null,
   "id": "c3cfc788",
   "metadata": {},
   "outputs": [],
   "source": [
    "# === INPUT ===\n",
    "FILE_PATH = '../data/providers/trust_and_foundation_locations.csv'\n",
    "GEOCODE_SOURCE = 'trust_and_foundation_locations.csv'\n",
    "\n",
    "# === DB CONNECTION ===\n",
    "engine = create_engine(\"postgresql://postgres:<password>@localhost:5432/nhs_dashboard\")\n",
    "\n",
    "# === LOAD DATA ===\n",
    "df = pd.read_csv(FILE_PATH, dtype=str)\n",
    "\n",
    "# === SELECT + RENAME COLUMNS ===\n",
    "df = df.rename(columns={\n",
    "    'Organisation Code': 'org_code',\n",
    "    'Name': 'org_name',\n",
    "    'National Grouping': 'region_code',\n",
    "    'High Level Health Geography': 'health_geography_code',\n",
    "    'Postcode': 'postcode',\n",
    "    'Open Date': 'open_date',\n",
    "    'Close Date': 'close_date',\n",
    "    'Latitude': 'latitude',\n",
    "    'Longitude': 'longitude'\n",
    "})\n",
    "\n",
    "# === FORMAT + CLEAN ===\n",
    "df = df[[\n",
    "    'org_code', 'org_name', 'region_code', 'health_geography_code',\n",
    "    'postcode', 'open_date', 'close_date', 'latitude', 'longitude'\n",
    "]]\n",
    "df['org_type'] = 'Provider'\n",
    "df['geocode_source'] = GEOCODE_SOURCE\n",
    "\n",
    "# === CONVERT DATES + NUMERIC TYPES ===\n",
    "df['open_date'] = pd.to_datetime(df['open_date'], errors='coerce', format='%Y%m%d')\n",
    "df['close_date'] = pd.to_datetime(df['close_date'], errors='coerce', format='%Y%m%d')\n",
    "df['latitude'] = pd.to_numeric(df['latitude'], errors='coerce')\n",
    "df['longitude'] = pd.to_numeric(df['longitude'], errors='coerce')\n",
    "\n",
    "# === LOAD TO DB ===\n",
    "try:\n",
    "    with engine.begin() as conn:\n",
    "        df.to_sql('org_info', conn, if_exists='append', index=False)\n",
    "    print(f\"Loaded {len(df)} provider records into org_info\")\n",
    "except SQLAlchemyError as e:\n",
    "    print(\"ERROR loading data into org_info\")\n",
    "    print(str(e))\n"
   ]
  }
 ],
 "metadata": {
  "kernelspec": {
   "display_name": "Python 3",
   "language": "python",
   "name": "python3"
  },
  "language_info": {
   "codemirror_mode": {
    "name": "ipython",
    "version": 3
   },
   "file_extension": ".py",
   "mimetype": "text/x-python",
   "name": "python",
   "nbconvert_exporter": "python",
   "pygments_lexer": "ipython3",
   "version": "3.13.3"
  }
 },
 "nbformat": 4,
 "nbformat_minor": 5
}
